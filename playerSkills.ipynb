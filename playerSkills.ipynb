{
 "cells": [
  {
   "cell_type": "code",
   "execution_count": null,
   "metadata": {},
   "outputs": [],
   "source": [
    "import pandas as pd\n",
    "import numpy as np\n",
    "import matplotlib.pyplot as plt\n",
    "import seaborn as sns\n",
    "from IPython.display import clear_output\n"
   ]
  },
  {
   "cell_type": "code",
   "execution_count": null,
   "metadata": {},
   "outputs": [],
   "source": [
    "#  load nbaPlayersAllTimesAgilityData.csv, nbaPlayersAllTimesInfoData and nbaPlayersAllTimesShootingData.csv\n",
    "dfAg = pd.read_csv('nbaPlayersAllTimesAgilityData.csv')\n",
    "dfIn = pd.read_csv('nbaPlayersAllTimesInfo.csv')\n",
    "dfStats = pd.read_csv('nbaPlayersAllTimesStatsData.csv')\n",
    "\n",
    "\n",
    "#  remove ' ' from column names /!\\ invisible characters\n",
    "dfAg.columns = dfAg.columns.str.replace(' ', ' ')\n",
    "dfIn.columns = dfIn.columns.str.replace(' ', ' ')\n",
    "dfStats.columns = dfStats.columns.str.replace(' ', ' ')\n",
    "\n",
    "# remane colum Player to PLAYER\n",
    "dfIn = dfIn.rename(columns={'Player': 'PLAYER'})\n",
    "\n",
    "# remove space in playerName\n",
    "dfAg['PLAYER'] = dfAg['PLAYER'].str.replace(' ', '')\n",
    "dfIn['PLAYER'] = dfIn['PLAYER'].str.replace(' ', '')\n",
    "dfStats['PLAYER'] = dfStats['PLAYER'].str.replace(' ', '')\n",
    "\n",
    "# remove duplicates\n",
    "dfAg = dfAg.drop_duplicates(subset=['PLAYER'], keep='first')\n",
    "dfIn = dfIn.drop_duplicates(subset=['PLAYER'], keep='first')\n",
    "dfStats = dfStats.drop_duplicates(subset=['PLAYER'], keep='first')\n",
    "\n",
    "# add the 3 dataframes\n",
    "df = pd.merge(dfAg, dfIn, on='PLAYER', how='outer')\n",
    "df = pd.merge(df, dfStats, on='PLAYER', how='outer')\n",
    "\n",
    "# replace every value egal to '-' with the mean of the other value in the columns\n",
    "df = df.replace('-', np.nan)\n",
    "df = df.apply(pd.to_numeric, errors='ignore')\n",
    "df = df.fillna(df.mean(numeric_only=True))\n",
    "\n",
    "# convert player name to string\n",
    "df['PLAYER'] = df['PLAYER'].astype(str)\n",
    "\n",
    "\n",
    "\n",
    "# convert inch to meters and round to decimal\n",
    "df['Max Vertical Leap (inches)'] = df['Max Vertical Leap (inches)'].apply(pd.to_numeric)\n",
    "df['Max Vertical Leap (meters)'] = round(df['Max Vertical Leap (inches)'] * 0.0254, 2)\n",
    "\n",
    "# convert inch to meters and round to decimal\n",
    "df['Standing Vertical Leap (inches)'] = df['Standing Vertical Leap (inches)'].apply(pd.to_numeric)\n",
    "df['Standing Vertical Leap (meters)'] = round(df['Standing Vertical Leap (inches)'] * 0.0254, 2)\n",
    "\n",
    "# remove inch columns\n",
    "df = df.drop(['Max Vertical Leap (inches)', 'Standing Vertical Leap (inches)'], axis=1)\n",
    "\n",
    "# convert height to meters and round to decimal\n",
    "df['Height'] = df['Height'].apply(pd.to_numeric)\n",
    "df['Height'] = round(df['Height'] / 100, 2)\n",
    "\n",
    "print(df.shape)\n",
    "\n",
    "# df1 = to df minus none numeric columns\n",
    "df1 = df.select_dtypes(exclude=['object'])\n",
    "df1 = df1 * 1000\n",
    "print(df1.shape)\n",
    "\n",
    "# print correlation matrix\n",
    "corr = df1.corr()\n",
    "plt.figure(figsize=(20, 20))\n",
    "sns.heatmap(corr, annot=True, fmt='.2f', vmin=-1, vmax=1, center=0, cmap='coolwarm', square=True)\n",
    "plt.show()"
   ]
  },
  {
   "cell_type": "markdown",
   "metadata": {},
   "source": [
    "# But\n",
    "Faire un spider plot des compétences du joueur choisi par l'utilisateur"
   ]
  },
  {
   "cell_type": "code",
   "execution_count": null,
   "metadata": {},
   "outputs": [],
   "source": [
    "#name = input(\"Enter the name of the player : \").lower().replace(' ', '')\n",
    "#playersName = df['PLAYER'].map(str.lower)\n",
    "\n",
    "#while(name not in playersName.values):\n",
    "#   print(\"Player \", name ,\" not found\")\n",
    " #   name = input(\"Enter the name of the player : \").lower().replace(' ', '')\n",
    "\n",
    "clear_output()\n",
    "name=\"lebronjames\"\n",
    "print(\"Begin analysis of \", name)\n",
    "\n",
    "print(df[df['PLAYER'].str.lower() == name])\n",
    "# print df size\n",
    "print(\"df size : \", df.shape)\n",
    "#chosen player\n",
    "player = df[df['PLAYER'].str.lower() == name]\n",
    "\n",
    "# display player info as a radar chart\n",
    "categories = list(player)[1:]\n",
    "N = len(categories)\n"
   ]
  },
  {
   "cell_type": "code",
   "execution_count": null,
   "metadata": {},
   "outputs": [],
   "source": []
  }
 ],
 "metadata": {
  "kernelspec": {
   "display_name": "Python 3.9.13",
   "language": "python",
   "name": "python3"
  },
  "language_info": {
   "codemirror_mode": {
    "name": "ipython",
    "version": 3
   },
   "file_extension": ".py",
   "mimetype": "text/x-python",
   "name": "python",
   "nbconvert_exporter": "python",
   "pygments_lexer": "ipython3",
   "version": "3.9.13"
  },
  "orig_nbformat": 4,
  "vscode": {
   "interpreter": {
    "hash": "8d32adb8b5e2525ce13b3fda0f1071cf686f8cf6e73d846240eaac8b22047200"
   }
  }
 },
 "nbformat": 4,
 "nbformat_minor": 2
}

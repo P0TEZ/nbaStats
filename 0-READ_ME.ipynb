{
 "cells": [
  {
   "cell_type": "markdown",
   "metadata": {},
   "source": [
    "# Python Scripting Projet\n",
    "Team : \n",
    "- Sheron Millien\n",
    "- Alexandre Potez\n",
    "- Jérôme Rascle\n",
    "- Godfred Akwasi Boaheng"
   ]
  },
  {
   "cell_type": "markdown",
   "metadata": {},
   "source": [
    "# Résumé des fonctionnalités\n",
    "Notre programme permet à un utilisateur de visualiser 3 analyses menées sur des données de la NBA, dans **Partie 2 : Data Science** :\n",
    "- **Partie A** : Analyse sur la taille et le poids des joueurs\n",
    "- **Partie B** : Analyse sur les sauts des joueurs\n",
    "- **Partie C** : Analyse sur 2 caractéristiques ayant une bonne collération, qui peuvent à priori mener à une mécompréhension \n",
    "\n",
    "De plus, en **Partie D**, nous mettons à la disposition de l'utilisateur une [ -------- expliquer la partie intéractive -------- ]\n",
    "L'utilisateur doit juste saisir le nom d'un joueur dans l'input demandé et le traitement s'exécutera et affichera les différentes analyses.\n",
    "\n",
    "Pour cela, nous allons d'abord expliquer la partie Web Scraping, puis ces analyses elles-mêmes."
   ]
  },
  {
   "cell_type": "markdown",
   "metadata": {},
   "source": [
    "# Partie 1 : Web Scraping"
   ]
  },
  {
   "cell_type": "markdown",
   "metadata": {},
   "source": [
    " ## Faire gaffe aux duplications d'importations entre les parties s'il y en a !\n",
    " ## Effacer ce block de message quand ca sera terminé."
   ]
  },
  {
   "cell_type": "markdown",
   "metadata": {},
   "source": [
    "Pour la **Partie A** nous aurons besoin de..."
   ]
  },
  {
   "cell_type": "code",
   "execution_count": null,
   "metadata": {},
   "outputs": [],
   "source": [
    "#  load nbaPlayersAllTimesAgilityData.csv and nbaPlayersAllTimesInfoData\n",
    "df = pd.read_csv('nbaPlayersAllTimesInfo.csv')\n",
    "\n",
    "#  remove ' ' from column names /!\\ invisible characters\n",
    "df.columns = df.columns.str.replace(' ', ' ')\n",
    "\n",
    "# remane colum Player to PLAYER\n",
    "df = df.rename(columns={'Player': 'PLAYER'})\n",
    "\n",
    "# remove space in player\n",
    "df['PLAYER'] = df['PLAYER'].str.replace(' ', '')\n",
    "\n",
    "\n",
    "df = df[['PLAYER', 'Height', 'Weight']]\n",
    "\n",
    "# remove duplicates\n",
    "df = df.drop_duplicates(subset=['PLAYER'], keep='first')\n",
    "\n",
    "# calcul the mean from each column where value is set\n",
    "heightMean = df[df[df['Height'] != '-'] != 0]['Height'].astype(float).mean()\n",
    "weightMean = df[df[df['Weight'] != '-'] != 0]['Weight'].astype(float).mean()\n",
    "\n",
    "# set value to the mean where the value is not set\n",
    "# replace 0 by the mean\n",
    "df['Height'] = df['Height'].replace(0, heightMean)\n",
    "df['Weight'] = df['Weight'].replace(0, weightMean)\n",
    "\n",
    "# replace '-' by mean\n",
    "df['Height'] = df['Height'].replace('-', heightMean)\n",
    "df['Weight'] = df['Weight'].replace('-', weightMean)\n",
    "\n",
    "\n",
    "# convert height to meters and round to decimal\n",
    "df['Height'] = df['Height'].apply(pd.to_numeric)\n",
    "df['Height'] = round(df['Height'] / 100, 2)\n",
    "\n",
    "# get correlation\n",
    "df1 = df[['Height', 'Weight']]\n",
    "df1 = df1.corr()"
   ]
  },
  {
   "cell_type": "markdown",
   "metadata": {},
   "source": [
    "Pour la **Partie B** nous aurons besoin de..."
   ]
  },
  {
   "cell_type": "code",
   "execution_count": 1,
   "metadata": {},
   "outputs": [],
   "source": [
    "# Partie B : Data load and cleaning"
   ]
  },
  {
   "cell_type": "markdown",
   "metadata": {},
   "source": [
    "Pour la **Partie C** nous aurons besoin de..."
   ]
  },
  {
   "cell_type": "code",
   "execution_count": null,
   "metadata": {},
   "outputs": [],
   "source": [
    "# Partie C : Data load and cleaning"
   ]
  },
  {
   "cell_type": "markdown",
   "metadata": {},
   "source": [
    "Pour la **Partie D** nous aurons besoin de..."
   ]
  },
  {
   "cell_type": "code",
   "execution_count": null,
   "metadata": {},
   "outputs": [],
   "source": [
    "# Partie D : Data load and cleaning"
   ]
  },
  {
   "cell_type": "markdown",
   "metadata": {},
   "source": [
    "# Partie 2 : Data Science"
   ]
  },
  {
   "cell_type": "markdown",
   "metadata": {},
   "source": [
    "### Importation des librairies"
   ]
  },
  {
   "cell_type": "code",
   "execution_count": null,
   "metadata": {},
   "outputs": [],
   "source": [
    "import pandas as pd\n",
    "import numpy as np\n",
    "import matplotlib.pyplot as plt\n",
    "import seaborn as sns"
   ]
  },
  {
   "cell_type": "markdown",
   "metadata": {},
   "source": [
    "## **Partie A** : Analyse sur la taille et le poids des joueurs"
   ]
  },
  {
   "cell_type": "code",
   "execution_count": null,
   "metadata": {},
   "outputs": [],
   "source": []
  },
  {
   "cell_type": "markdown",
   "metadata": {},
   "source": [
    "## **Partie B** : Analyse sur les sauts des joueurs"
   ]
  },
  {
   "cell_type": "code",
   "execution_count": null,
   "metadata": {},
   "outputs": [],
   "source": []
  },
  {
   "cell_type": "markdown",
   "metadata": {},
   "source": [
    "## **Partie C** : Analyse sur 2 caractéristiques ayant une bonne collération"
   ]
  },
  {
   "cell_type": "code",
   "execution_count": null,
   "metadata": {},
   "outputs": [],
   "source": []
  },
  {
   "cell_type": "markdown",
   "metadata": {},
   "source": [
    "# Partie 3 : Inconvénients et potentielles améliorations"
   ]
  },
  {
   "cell_type": "markdown",
   "metadata": {},
   "source": [
    "Les inconvénients de notre projet sont que ...\n",
    "\n",
    "Concernant les améliorations, nous aurions aimé : \n",
    "- créer une IA qui permette de prédire la victoire entre 2 équipes selectionnées par l'utilisateur. \n",
    "- ajouter certaines fonctionnalités comme..."
   ]
  },
  {
   "cell_type": "markdown",
   "metadata": {},
   "source": [
    "# Partie 4 : Difficultés rencontrées lors du projet"
   ]
  },
  {
   "cell_type": "markdown",
   "metadata": {},
   "source": [
    "Globalement, nous avons été assez à l'aise sur le projet car nous avions bien suivi les cours théoriques et fait les différents TPs.\n",
    "\n",
    "Cependant, nous avons tout de même eu certaines difficultés comme ..."
   ]
  }
 ],
 "metadata": {
  "kernelspec": {
   "display_name": "Python 3.10.7 64-bit",
   "language": "python",
   "name": "python3"
  },
  "language_info": {
   "codemirror_mode": {
    "name": "ipython",
    "version": 3
   },
   "file_extension": ".py",
   "mimetype": "text/x-python",
   "name": "python",
   "nbconvert_exporter": "python",
   "pygments_lexer": "ipython3",
   "version": "3.10.7"
  },
  "orig_nbformat": 4,
  "vscode": {
   "interpreter": {
    "hash": "369f2c481f4da34e4445cda3fffd2e751bd1c4d706f27375911949ba6bb62e1c"
   }
  }
 },
 "nbformat": 4,
 "nbformat_minor": 2
}

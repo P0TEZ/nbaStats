{
 "cells": [
  {
   "cell_type": "markdown",
   "metadata": {},
   "source": [
    "# Python Scripting Projet\n",
    "Team : \n",
    "- Sheron Millien\n",
    "- Alexandre Potez\n",
    "- Jérôme Rascle\n",
    "- Godfred Akwasi Boaheng"
   ]
  },
  {
   "cell_type": "markdown",
   "metadata": {},
   "source": [
    "# Résumé des fonctionnalités\n",
    "Notre programme permet à un utilisateur de visualiser 3 analyses menées sur des données de la NBA, dans **Partie 2 : Data Science** :\n",
    "- **Partie A** : Analyse sur la taille et le poids des joueurs\n",
    "- **Partie B** : Analyse sur les sauts des joueurs\n",
    "- **Partie C** : Analyse sur 2 caractéristiques ayant une bonne collération, qui peuvent à priori mener à une mécompréhension \n",
    "\n",
    "De plus, en **Partie D**, nous mettons à la disposition de l'utilisateur une recherche interactive, qui lui permet de visualiser les données de la NBA selon ses propres critères.\n",
    "L'utilisateur doit juste saisir le nom d'un joueur dans l'input demandé et le traitement s'exécutera et affichera les différentes analyses.\n",
    "\n",
    "Pour cela, nous allons d'abord expliquer la partie Web Scraping, puis ces analyses elles-mêmes."
   ]
  },
  {
   "cell_type": "markdown",
   "metadata": {},
   "source": [
    "# Partie 1 : Web Scraping"
   ]
  },
  {
   "cell_type": "markdown",
   "metadata": {},
   "source": [
    "> <u>Se rendre dans le fichier:</u>\n",
    "> <br/>\n",
    "><br/>\n",
    "> **data_scraping.ipynb**<br/>\n",
    "> <br/>"
   ]
  },
  {
   "cell_type": "markdown",
   "metadata": {},
   "source": [
    "# Partie 2 : Data Science"
   ]
  },
  {
   "cell_type": "markdown",
   "metadata": {},
   "source": [
    "## **Partie A** : Analyse sur la taille et le poids des joueurs"
   ]
  },
  {
   "cell_type": "markdown",
   "metadata": {},
   "source": [
    "> <u>Se rendre dans le fichier:</u>\n",
    "> <br/>\n",
    "><br/>\n",
    "> **heightAndWeight.ipynb**<br/>\n",
    "> <br/>"
   ]
  },
  {
   "cell_type": "markdown",
   "metadata": {},
   "source": [
    "## **Partie B** : Analyse sur les sauts des joueurs"
   ]
  },
  {
   "cell_type": "markdown",
   "metadata": {},
   "source": [
    "> <u>Se rendre dans le fichier:</u>\n",
    "> <br/>\n",
    "><br/>\n",
    "> **JumpAnalyse.ipynb**<br/>\n",
    "> <br/>"
   ]
  },
  {
   "cell_type": "markdown",
   "metadata": {},
   "source": [
    "## **Partie C** : Analyse sur 2 caractéristiques ayant une bonne collération"
   ]
  },
  {
   "cell_type": "markdown",
   "metadata": {},
   "source": [
    "> <u>Se rendre dans le fichier:</u>\n",
    "> <br/>\n",
    "><br/>\n",
    "> **playerBlockAndPoints.ipynb**<br/>\n",
    ">  et <br/>\n",
    "> **playerRankAndFieldGoal%.ipynb**<br/>\n",
    "> <br/>"
   ]
  },
  {
   "cell_type": "markdown",
   "metadata": {},
   "source": [
    "## **Partie D** : Recherche interactive"
   ]
  },
  {
   "cell_type": "markdown",
   "metadata": {},
   "source": [
    "> <u>Se rendre dans le fichier:</u>\n",
    "> <br/>\n",
    "><br/>\n",
    "> **playerSkills.ipynb**<br/>\n",
    "> <br/>"
   ]
  },
  {
   "cell_type": "markdown",
   "metadata": {},
   "source": [
    "# Partie 3 : Inconvénients et potentielles améliorations"
   ]
  },
  {
   "cell_type": "markdown",
   "metadata": {},
   "source": [
    "Les inconvénients de notre projet sont que la partie web scraping n'est pas optimale, car nous avons utilisé une méthode qui nous a permis de récupérer les données, mais qui n'est pas la plus optimale. En effet, nous avons utilisé la méthode de la **soupe** combinée avec **Selenium**, qui est une méthode qui permet de récupérer des données d'un site web facilement, mais qui reste assez lente. Nous avons donc utilisé cette méthode pour récupérer les données, mais nous aurions pu utiliser une autre méthode plus optimale comme l'**api de la NBA** mais celle ci nécessite un abonnement payant pour un certain nombre d'utilisation.\n",
    "\n",
    "Concernant les améliorations, nous aurions aimé : \n",
    "- créer une IA qui permette de prédire la victoire entre 2 équipes selectionnées par l'utilisateur.\n",
    "- créer une IA qui permette de prédire le nombre de points que va marquer un joueur selectionné par l'utilisateur.\n",
    "- élargir notre recherche interactive à d'autres caractéristiques des joueurs.\n",
    "- étudier des statistiques plus poussées, comme les statistiques de matchs, les statistiques de saison, etc."
   ]
  },
  {
   "cell_type": "markdown",
   "metadata": {},
   "source": [
    "# Partie 4 : Difficultés rencontrées lors du projet"
   ]
  },
  {
   "cell_type": "markdown",
   "metadata": {},
   "source": [
    "Globalement, nous avons été assez à l'aise sur le projet car nous avions bien suivi les cours théoriques et fait les différents TPs.\n",
    "\n",
    "Cependant, nous avons tout de même eu certaines difficultés comme un manque de temps en effet ce projet se passe sur une période ou  nous avons dû gérer d'autres projets."
   ]
  }
 ],
 "metadata": {
  "kernelspec": {
   "display_name": "Python 3.10.7 64-bit",
   "language": "python",
   "name": "python3"
  },
  "language_info": {
   "codemirror_mode": {
    "name": "ipython",
    "version": 3
   },
   "file_extension": ".py",
   "mimetype": "text/x-python",
   "name": "python",
   "nbconvert_exporter": "python",
   "pygments_lexer": "ipython3",
   "version": "3.10.7"
  },
  "orig_nbformat": 4,
  "vscode": {
   "interpreter": {
    "hash": "369f2c481f4da34e4445cda3fffd2e751bd1c4d706f27375911949ba6bb62e1c"
   }
  }
 },
 "nbformat": 4,
 "nbformat_minor": 2
}

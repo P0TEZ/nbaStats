{
 "cells": [
  {
   "cell_type": "code",
   "execution_count": null,
   "metadata": {},
   "outputs": [],
   "source": [
    "import pandas as pd\n",
    "import numpy as np\n",
    "import matplotlib.pyplot as plt\n",
    "import seaborn as sns"
   ]
  },
  {
   "cell_type": "code",
   "execution_count": null,
   "metadata": {},
   "outputs": [],
   "source": []
  },
  {
   "cell_type": "code",
   "execution_count": null,
   "metadata": {},
   "outputs": [],
   "source": [
    "#  load nbaPlayersAllTimesAgilityData.csv and nbaPlayersAllTimesInfoData\n",
    "df = pd.read_csv('nbaPlayersAllTimesInfo.csv')\n",
    "\n",
    "#  remove ' ' from column names /!\\ invisible characters\n",
    "df.columns = df.columns.str.replace(' ', ' ')\n",
    "\n",
    "# remane colum Player to PLAYER\n",
    "df = df.rename(columns={'Player': 'PLAYER'})\n",
    "\n",
    "# remove space in player\n",
    "df['PLAYER'] = df['PLAYER'].str.replace(' ', '')\n",
    "\n",
    "\n",
    "df = df[['PLAYER', 'Height', 'Weight']]\n",
    "\n",
    "# remove duplicates\n",
    "df = df.drop_duplicates(subset=['PLAYER'], keep='first')\n",
    "\n",
    "# calcul the mean from each column where value is set\n",
    "heightMean = df[df[df['Height'] != '-'] != 0]['Height'].astype(float).mean()\n",
    "weightMean = df[df[df['Weight'] != '-'] != 0]['Weight'].astype(float).mean()\n",
    "\n",
    "# set set value to the mean where the value is not set\n",
    "# replace 0 by the mean\n",
    "df['Height'] = df['Height'].replace(0, heightMean)\n",
    "df['Weight'] = df['Weight'].replace(0, weightMean)\n",
    "\n",
    "# replace '-' by mean\n",
    "df['Height'] = df['Height'].replace('-', heightMean)\n",
    "df['Weight'] = df['Weight'].replace('-', weightMean)\n",
    "\n",
    "\n",
    "# convert height to meters and round to decimal\n",
    "df['Height'] = df['Height'].apply(pd.to_numeric)\n",
    "df['Height'] = round(df['Height'] / 100, 2)\n",
    "\n",
    "# get correlation\n",
    "df1 = df[['Height', 'Weight']]\n",
    "df1 = df1.corr()"
   ]
  },
  {
   "cell_type": "code",
   "execution_count": null,
   "metadata": {},
   "outputs": [],
   "source": [
    "# affiche un graphique de répartition de la taille des joueurs\n",
    "sns.boxplot(palette=[\"m\", \"g\"],data=df)\n",
    "plt.show()\n"
   ]
  }
 ],
 "metadata": {
  "kernelspec": {
   "display_name": "Python 3.9.13",
   "language": "python",
   "name": "python3"
  },
  "language_info": {
   "codemirror_mode": {
    "name": "ipython",
    "version": 3
   },
   "file_extension": ".py",
   "mimetype": "text/x-python",
   "name": "python",
   "nbconvert_exporter": "python",
   "pygments_lexer": "ipython3",
   "version": "3.9.13"
  },
  "orig_nbformat": 4,
  "vscode": {
   "interpreter": {
    "hash": "8d32adb8b5e2525ce13b3fda0f1071cf686f8cf6e73d846240eaac8b22047200"
   }
  }
 },
 "nbformat": 4,
 "nbformat_minor": 2
}
